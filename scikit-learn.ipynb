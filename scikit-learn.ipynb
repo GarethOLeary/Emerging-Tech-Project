{
 "cells": [
  {
   "cell_type": "markdown",
   "id": "c970575c-6821-4ecd-95c3-ba7f58d669a4",
   "metadata": {},
   "source": [
    "\n",
    "![](https://encrypted-tbn0.gstatic.com/images?q=tbn:ANd9GcR3UqVcA_kLvdr_tbiyqd9lhnPplFxVltuGoxBAXc0RnqlDT5Tg9t3yCAkZ9Ms13DZesGw&usqp=CAU)\n",
    "\n",
    "# Overview of scikit-learn Python library\n",
    "\n",
    "***\n",
    "\n",
    "Scikit-learn is a very useful library for machine learning in Python. The library provides well organized tools for machine learning and statistical modeling. Scikit-learn provides a set of supervised and unsupervised learning algorithms such as classification, clustering, regression, dimensionality reduction, model selection and pre-processing.\n",
    "\n",
    "scikit learn requires the following libraries to be installed before use:\n",
    "\n",
    "1. NumPy\n",
    "2. SciPy\n",
    "3. Matplotlib\n",
    "4. IPython\n",
    "5. SymPy\n",
    "6. Pandas"
   ]
  },
  {
   "cell_type": "markdown",
   "id": "7d350756-f099-4587-8133-7954828704cd",
   "metadata": {},
   "source": [
    "# scikit-learn algorithms\n",
    "\n",
    "***\n"
   ]
  },
  {
   "cell_type": "markdown",
   "id": "612ab8c3-b40c-428d-82f7-c3a6ca189649",
   "metadata": {},
   "source": [
    "# References\n",
    "\n",
    "***\n"
   ]
  },
  {
   "cell_type": "markdown",
   "id": "65e3b89f-0159-4cec-a9a0-71bb1a81f02b",
   "metadata": {},
   "source": [
    "# End"
   ]
  }
 ],
 "metadata": {
  "kernelspec": {
   "display_name": "Python 3",
   "language": "python",
   "name": "python3"
  },
  "language_info": {
   "codemirror_mode": {
    "name": "ipython",
    "version": 3
   },
   "file_extension": ".py",
   "mimetype": "text/x-python",
   "name": "python",
   "nbconvert_exporter": "python",
   "pygments_lexer": "ipython3",
   "version": "3.8.8"
  }
 },
 "nbformat": 4,
 "nbformat_minor": 5
}
