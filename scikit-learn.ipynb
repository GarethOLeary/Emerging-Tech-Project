{
 "cells": [
  {
   "cell_type": "markdown",
   "id": "c970575c-6821-4ecd-95c3-ba7f58d669a4",
   "metadata": {},
   "source": [
    "# Overview of scikit-learn Python library\n",
    "\n",
    "***"
   ]
  },
  {
   "cell_type": "markdown",
   "id": "7d350756-f099-4587-8133-7954828704cd",
   "metadata": {},
   "source": [
    "# scikit-learn algoritms\n",
    "\n",
    "***\n"
   ]
  },
  {
   "cell_type": "markdown",
   "id": "612ab8c3-b40c-428d-82f7-c3a6ca189649",
   "metadata": {},
   "source": [
    "# References\n",
    "\n",
    "***\n"
   ]
  },
  {
   "cell_type": "markdown",
   "id": "65e3b89f-0159-4cec-a9a0-71bb1a81f02b",
   "metadata": {},
   "source": [
    "# End"
   ]
  }
 ],
 "metadata": {
  "kernelspec": {
   "display_name": "Python 3",
   "language": "python",
   "name": "python3"
  },
  "language_info": {
   "codemirror_mode": {
    "name": "ipython",
    "version": 3
   },
   "file_extension": ".py",
   "mimetype": "text/x-python",
   "name": "python",
   "nbconvert_exporter": "python",
   "pygments_lexer": "ipython3",
   "version": "3.8.8"
  }
 },
 "nbformat": 4,
 "nbformat_minor": 5
}
