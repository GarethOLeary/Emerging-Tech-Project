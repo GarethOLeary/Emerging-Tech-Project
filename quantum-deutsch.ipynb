{
 "cells": [
  {
   "cell_type": "markdown",
   "id": "b9278edd-8e7b-4f40-aeb5-f5cac8e9aab4",
   "metadata": {},
   "source": [
    "# Quantum Computing\n",
    "\n",
    "***"
   ]
  },
  {
   "cell_type": "markdown",
   "id": "ee8b0052-db79-4a3f-bd9b-c0a6724aa6fa",
   "metadata": {},
   "source": [
    "# Classical Computing\n",
    "\n",
    "***"
   ]
  },
  {
   "cell_type": "markdown",
   "id": "2cce2cde-3606-4fb3-90fc-0d9ffd63361e",
   "metadata": {},
   "source": [
    "# Deutsch's Algorithm\n",
    "\n",
    "***"
   ]
  },
  {
   "cell_type": "code",
   "execution_count": null,
   "id": "6e3eb1ae-0674-4507-bc53-e0f9480c66f4",
   "metadata": {},
   "outputs": [],
   "source": []
  },
  {
   "cell_type": "code",
   "execution_count": null,
   "id": "c5438184-010f-4ccd-9942-0a81f3e2d7f0",
   "metadata": {},
   "outputs": [],
   "source": []
  },
  {
   "cell_type": "code",
   "execution_count": null,
   "id": "da7c5e12-bc1c-4324-bd4b-78a18513784c",
   "metadata": {},
   "outputs": [],
   "source": []
  },
  {
   "cell_type": "code",
   "execution_count": null,
   "id": "e0cbe9b0-49ec-43d5-ab4d-24e770e65e3d",
   "metadata": {},
   "outputs": [],
   "source": []
  },
  {
   "cell_type": "code",
   "execution_count": null,
   "id": "695fdbd3-d474-43fd-8ce7-d00ed06f085a",
   "metadata": {},
   "outputs": [],
   "source": []
  },
  {
   "cell_type": "code",
   "execution_count": null,
   "id": "12284f07-a146-4711-8103-9e60fb197891",
   "metadata": {},
   "outputs": [],
   "source": []
  },
  {
   "cell_type": "code",
   "execution_count": null,
   "id": "19709b69-7093-441a-b51c-1710bfaf926d",
   "metadata": {},
   "outputs": [],
   "source": []
  },
  {
   "cell_type": "markdown",
   "id": "e87ff367-6866-4e7c-ae23-b8e1999f751e",
   "metadata": {},
   "source": [
    "# References \n",
    "\n",
    "***"
   ]
  },
  {
   "cell_type": "markdown",
   "id": "0575a4dc-bb61-46db-877e-65d61c5f471c",
   "metadata": {},
   "source": [
    "# End"
   ]
  }
 ],
 "metadata": {
  "kernelspec": {
   "display_name": "Python 3",
   "language": "python",
   "name": "python3"
  },
  "language_info": {
   "codemirror_mode": {
    "name": "ipython",
    "version": 3
   },
   "file_extension": ".py",
   "mimetype": "text/x-python",
   "name": "python",
   "nbconvert_exporter": "python",
   "pygments_lexer": "ipython3",
   "version": "3.8.8"
  }
 },
 "nbformat": 4,
 "nbformat_minor": 5
}
