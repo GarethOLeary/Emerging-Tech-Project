{
 "cells": [
  {
   "cell_type": "markdown",
   "id": "b9278edd-8e7b-4f40-aeb5-f5cac8e9aab4",
   "metadata": {},
   "source": [
    "# What is Quantum Computing?\n",
    "\n",
    "***"
   ]
  },
  {
   "cell_type": "markdown",
   "id": "f3864ebb-2af2-449b-a786-7c2d3a6cda09",
   "metadata": {},
   "source": [
    "Quantum computing focuses on developing computer technology based on the principles of quantum theory. At the heart of quantum physics is a concept known as Amplitudes. Amplitudes are closely related to probabilities, but the key difference is probability is always a number from zero to one, amplitudes are complex numbers which means they obey different rules. A **Qubit** is a basic computational unit and is made up of sub atomic particles. Qubit's can be 0, 1 or a linear computation of 0 and 1. Unmeasured Qubits's exist in a state called **Superposition**, where each qubit has some amplitude for being zero and some amplitude for being one. When two or more Qubit's are in the state of Superposition, they relate to each other through **Entanglement**. This means that their final outcomes will be mathematcially related even if we don't know yet what they are. In order to get an answer from the Quantum system that isn't a random outcome of probability, **Interference** has to be used. Interference is when waves in a pool hit each other, one wave is above the surface and the other wave is below the surface, when they collide they cancel each other out. "
   ]
  },
  {
   "cell_type": "markdown",
   "id": "ee8b0052-db79-4a3f-bd9b-c0a6724aa6fa",
   "metadata": {
    "tags": []
   },
   "source": [
    "# What is Classical Computing?\n",
    "\n",
    "***"
   ]
  },
  {
   "cell_type": "markdown",
   "id": "b41c6b3c-5489-4b2b-9849-320c87646c1e",
   "metadata": {},
   "source": [
    "Classical computing is what we are familar with today, classical computers are best for everyday tasks that need to be completed by a computer. In classical computing, information is stored in bits that are represented by either a 0 or 1, we also know how to solve problems thanks to computer language used when programming."
   ]
  },
  {
   "cell_type": "markdown",
   "id": "e2b9b5e8-f553-438d-85f1-15cbe60cca07",
   "metadata": {},
   "source": [
    "# Differences between Quantum and Classical Computing?"
   ]
  },
  {
   "cell_type": "markdown",
   "id": "e464d04c-764e-4a0f-9d50-6756cac95868",
   "metadata": {},
   "source": [
    "| Quantum Computing   | Classical Computing  |\n",
    "| --------------------| -------------------- |\n",
    "| Quantum computers use qubits, which can be 1 or 0 at the same time        | Classical computers use transistors, which are either 1 or 0   |\n",
    "|     Quantum computers are great for running simulations and data analysis     | Classical computers are best for everyday tasks that need to be completed by a computer  |\n",
    "|   Quantum computers help solve more complicated problems    |    Classical computing advances include adding memory to speed up computers   |\n",
    "|    Power increases exponentially in proportion to the number of qubits   |   Power increases in a 1:1 relationship with the number of transistors    |\n",
    "|   Quantum computers have high error rates and need to be kept ultracold   |   Classical computers have low error rates and can operate at room temperature   |"
   ]
  },
  {
   "cell_type": "markdown",
   "id": "2cce2cde-3606-4fb3-90fc-0d9ffd63361e",
   "metadata": {},
   "source": [
    "# Deutsch's Algorithm\n",
    "\n",
    "***"
   ]
  },
  {
   "cell_type": "markdown",
   "id": "99c66d01-c7d0-44cf-8527-6f690b127e2b",
   "metadata": {},
   "source": [
    "The Deutsch-Jozsa algorithm was one of the first quantum algorithms to show a separation between the quantum and classical difficulty of a problem. This algorithm demonstrates the significance of allowing quantum amplitudes to take both positive and negative values, as opposed to classical probabilities that are always non-negative."
   ]
  },
  {
   "cell_type": "markdown",
   "id": "2cd636e6-fc70-4d19-87bf-65d2d4b656ee",
   "metadata": {},
   "source": [
    "### What does it do?"
   ]
  },
  {
   "cell_type": "markdown",
   "id": "d86a22ef-1575-4cfd-8455-7e901d7de630",
   "metadata": {},
   "source": [
    "In the Deutsch–Jozsa algorithm we use an oracle to determine if a binary function $f(x) : {0,1}^n \\rightarrow {0,1}f(x):{0,1} \n",
    "n\n",
    " →{0,1}$ is constant or balanced.\n",
    "\n",
    "The function is constant if $f(x)=0f(x)=0$ or $f(x)=1f(x)= 1 $ for all values of $xx$. \n",
    "\n",
    "A function is balanced if $f(x)=0f(x)=0$ for half of the possible input values $xx$ and $f(x)=1f(x)= 1$ for the other half."
   ]
  },
  {
   "cell_type": "code",
   "execution_count": 1,
   "id": "6e3eb1ae-0674-4507-bc53-e0f9480c66f4",
   "metadata": {},
   "outputs": [],
   "source": [
    "import numpy"
   ]
  },
  {
   "cell_type": "code",
   "execution_count": 1,
   "id": "c5438184-010f-4ccd-9942-0a81f3e2d7f0",
   "metadata": {},
   "outputs": [],
   "source": [
    "import qiskit"
   ]
  },
  {
   "cell_type": "code",
   "execution_count": null,
   "id": "da7c5e12-bc1c-4324-bd4b-78a18513784c",
   "metadata": {},
   "outputs": [],
   "source": []
  },
  {
   "cell_type": "code",
   "execution_count": null,
   "id": "e0cbe9b0-49ec-43d5-ab4d-24e770e65e3d",
   "metadata": {},
   "outputs": [],
   "source": []
  },
  {
   "cell_type": "code",
   "execution_count": null,
   "id": "695fdbd3-d474-43fd-8ce7-d00ed06f085a",
   "metadata": {},
   "outputs": [],
   "source": []
  },
  {
   "cell_type": "code",
   "execution_count": null,
   "id": "12284f07-a146-4711-8103-9e60fb197891",
   "metadata": {},
   "outputs": [],
   "source": []
  },
  {
   "cell_type": "code",
   "execution_count": null,
   "id": "19709b69-7093-441a-b51c-1710bfaf926d",
   "metadata": {},
   "outputs": [],
   "source": []
  },
  {
   "cell_type": "markdown",
   "id": "e87ff367-6866-4e7c-ae23-b8e1999f751e",
   "metadata": {},
   "source": [
    "# References \n",
    "\n",
    "***\n",
    "\n",
    "1. https://www.sciencealert.com/quantum-computers\n",
    "2. https://www.quantamagazine.org/why-is-quantum-computing-so-hard-to-explain-20210608/\n",
    "3. https://www.quantum-inspire.com/kbase/deutsch-jozsa-algorithm/\n",
    "4. https://quantum-computing.ibm.com/composer/docs/iqx/guide/deutsch-jozsa-algorithm"
   ]
  },
  {
   "cell_type": "markdown",
   "id": "0575a4dc-bb61-46db-877e-65d61c5f471c",
   "metadata": {},
   "source": [
    "***\n",
    "# End"
   ]
  }
 ],
 "metadata": {
  "kernelspec": {
   "display_name": "Python 3 (ipykernel)",
   "language": "python",
   "name": "python3"
  },
  "language_info": {
   "codemirror_mode": {
    "name": "ipython",
    "version": 3
   },
   "file_extension": ".py",
   "mimetype": "text/x-python",
   "name": "python",
   "nbconvert_exporter": "python",
   "pygments_lexer": "ipython3",
   "version": "3.9.7"
  }
 },
 "nbformat": 4,
 "nbformat_minor": 5
}
