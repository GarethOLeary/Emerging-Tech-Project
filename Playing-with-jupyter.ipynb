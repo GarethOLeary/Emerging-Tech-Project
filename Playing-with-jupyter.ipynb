{
 "cells": [
  {
   "cell_type": "code",
   "execution_count": 1,
   "id": "e92b81e2-cc6e-4864-a0d3-619e80b9d4cf",
   "metadata": {},
   "outputs": [],
   "source": [
    "i = 1\n",
    "j = 2 \n",
    "k = i + j"
   ]
  },
  {
   "cell_type": "code",
   "execution_count": 2,
   "id": "110a442a-86c6-4dfd-854f-9449936d3afa",
   "metadata": {},
   "outputs": [
    {
     "data": {
      "text/plain": [
       "3"
      ]
     },
     "execution_count": 2,
     "metadata": {},
     "output_type": "execute_result"
    }
   ],
   "source": [
    "k"
   ]
  },
  {
   "cell_type": "markdown",
   "id": "ccbfd331-1537-4518-8aeb-d44cb3a21bbf",
   "metadata": {},
   "source": [
    "# This a markdown heading\n",
    "\n",
    "**Bold Text**\n",
    "\n",
    "*italics*\n",
    "\n",
    "- List 1\n",
    "- List 2\n",
    "- List 3\n",
    "\n",
    "1. Ordered List \n",
    "2. Ordered List \n",
    "\n",
    "![](https://www.gmit.ie/sites/default/files/public/styles/advert/public/images/home/feature-box-springboard.jpg?itok=awsAFrjx)"
   ]
  },
  {
   "cell_type": "code",
   "execution_count": 4,
   "id": "6e642551-6d2c-4d79-8c0a-c6248ed5fad2",
   "metadata": {},
   "outputs": [
    {
     "name": "stdout",
     "output_type": "stream",
     "text": [
      "The value of c is: 12\n"
     ]
    }
   ],
   "source": [
    "a = 3\n",
    "b = 4 \n",
    "c = a * b\n",
    "print('The value of c is:', c)"
   ]
  },
  {
   "cell_type": "code",
   "execution_count": 5,
   "id": "93527ed1-3706-4337-9e66-8d2142f3682e",
   "metadata": {},
   "outputs": [
    {
     "name": "stdout",
     "output_type": "stream",
     "text": [
      "3 4\n"
     ]
    }
   ],
   "source": [
    "print(a,b)"
   ]
  },
  {
   "cell_type": "code",
   "execution_count": null,
   "id": "9256b4b2-c977-4ded-bdff-b5034aed5bd0",
   "metadata": {},
   "outputs": [],
   "source": []
  }
 ],
 "metadata": {
  "kernelspec": {
   "display_name": "Python 3",
   "language": "python",
   "name": "python3"
  },
  "language_info": {
   "codemirror_mode": {
    "name": "ipython",
    "version": 3
   },
   "file_extension": ".py",
   "mimetype": "text/x-python",
   "name": "python",
   "nbconvert_exporter": "python",
   "pygments_lexer": "ipython3",
   "version": "3.8.8"
  }
 },
 "nbformat": 4,
 "nbformat_minor": 5
}
